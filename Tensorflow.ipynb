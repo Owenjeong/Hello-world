{
  "nbformat": 4,
  "nbformat_minor": 0,
  "metadata": {
    "colab": {
      "name": "Tensorflow.ipynb",
      "provenance": [],
      "collapsed_sections": [],
      "authorship_tag": "ABX9TyPLpS+URZwGua8OGUGv6IBf",
      "include_colab_link": true
    },
    "kernelspec": {
      "name": "python3",
      "display_name": "Python 3"
    },
    "language_info": {
      "name": "python"
    }
  },
  "cells": [
    {
      "cell_type": "markdown",
      "metadata": {
        "id": "view-in-github",
        "colab_type": "text"
      },
      "source": [
        "<a href=\"https://colab.research.google.com/github/Owenjeong/Hello-world/blob/main/Tensorflow.ipynb\" target=\"_parent\"><img src=\"https://colab.research.google.com/assets/colab-badge.svg\" alt=\"Open In Colab\"/></a>"
      ]
    },
    {
      "cell_type": "code",
      "metadata": {
        "id": "TrS5TiXFN5KX"
      },
      "source": [
        "import tensorflow as tf"
      ],
      "execution_count": null,
      "outputs": []
    },
    {
      "cell_type": "code",
      "metadata": {
        "id": "KVIBXgYcQziB"
      },
      "source": [
        "hello = tf.constant(\"Hello, Tensorflow!\")"
      ],
      "execution_count": null,
      "outputs": []
    },
    {
      "cell_type": "code",
      "metadata": {
        "id": "0oo1ZIg6N5Rh"
      },
      "source": [
        "node1 = tf.constant(3.0, tf.float32)\n",
        "node2 = tf.constant(4.0)\n",
        "node3 = tf.add(node1, node2)"
      ],
      "execution_count": null,
      "outputs": []
    },
    {
      "cell_type": "code",
      "metadata": {
        "colab": {
          "base_uri": "https://localhost:8080/"
        },
        "id": "EALmQcPON5T7",
        "outputId": "ab3666e6-fb2a-4df0-c2da-9a60bf37fc36"
      },
      "source": [
        "# sess = tf.compat.v1.Session()\n",
        "# print(sess.run(node1))\n",
        "# print(sess.run(node3))"
      ],
      "execution_count": null,
      "outputs": [
        {
          "output_type": "stream",
          "text": [
            "3.0\n",
            "7.0\n"
          ],
          "name": "stdout"
        }
      ]
    },
    {
      "cell_type": "code",
      "metadata": {
        "id": "UmSUXasLN5V8"
      },
      "source": [
        "#  x_train = [1, 2, 3]\n",
        "#  y_train = [1, 2, 3]"
      ],
      "execution_count": null,
      "outputs": []
    },
    {
      "cell_type": "code",
      "metadata": {
        "colab": {
          "base_uri": "https://localhost:8080/"
        },
        "id": "XQjaMgvQN5ZR",
        "outputId": "d9543639-6ba5-49f7-ba1f-821fdc0a9a19"
      },
      "source": [
        "# W = tf.Variable(tf.random_normal([1]), name = 'weight')\n",
        "# b = tf.Variable(tf.random_normal([1]), name = 'bias')\n",
        "\n",
        "# hypothesis = x_train * W + b\n",
        "# cost = tf.reduce_mean(tf.square(hypothesis - y_train))\n",
        "\n",
        "# optimizer = tf.train.GradientDescentOptimizer(learning_rate=0.01)\n",
        "# train = optimizer.minimize(cost)\n",
        "\n",
        "# sess = tf.compat.v1.Session()\n",
        "# sess.run(tf.global_variables_initializer())\n",
        "\n",
        "# for step in range(2001):\n",
        "#   sess.run(train)\n",
        "#   if step % 20 ==0:\n",
        "#     print(step, sess.run(cost), sess.run(W), sess.run(b))"
      ],
      "execution_count": null,
      "outputs": [
        {
          "output_type": "stream",
          "text": [
            "0 7.75675 [-0.60319597] [0.74808776]\n",
            "20 0.26159027 [0.38785845] [1.115753]\n",
            "40 0.17607911 [0.50382] [1.1016734]\n",
            "60 0.15936024 [0.5354411] [1.0535508]\n",
            "80 0.14472851 [0.5580642] [1.0043858]\n",
            "100 0.13144471 [0.57890874] [0.95721656]\n",
            "120 0.119380236 [0.59870565] [0.9122342]\n",
            "140 0.108423024 [0.6175657] [0.8693628]\n",
            "160 0.09847156 [0.63553876] [0.82850605]\n",
            "180 0.089433454 [0.65266705] [0.7895694]\n",
            "200 0.081224926 [0.6689904] [0.7524627]\n",
            "220 0.07376977 [0.6845467] [0.7170997]\n",
            "240 0.06699891 [0.69937176] [0.68339866]\n",
            "260 0.060849473 [0.71350026] [0.6512815]\n",
            "280 0.055264458 [0.7269646] [0.62067366]\n",
            "300 0.050192084 [0.7397962] [0.59150434]\n",
            "320 0.04558524 [0.7520249] [0.5637057]\n",
            "340 0.04140126 [0.7636787] [0.5372136]\n",
            "360 0.037601307 [0.7747849] [0.51196665]\n",
            "380 0.034150094 [0.7853692] [0.48790613]\n",
            "400 0.031015664 [0.79545605] [0.4649764]\n",
            "420 0.02816894 [0.8050689] [0.44312426]\n",
            "440 0.025583485 [0.8142299] [0.42229906]\n",
            "460 0.02323532 [0.82296044] [0.40245253]\n",
            "480 0.021102695 [0.83128065] [0.3835387]\n",
            "500 0.019165799 [0.83920985] [0.36551383]\n",
            "520 0.017406695 [0.8467664] [0.34833604]\n",
            "540 0.01580903 [0.8539678] [0.33196554]\n",
            "560 0.0143580185 [0.8608308] [0.31636438]\n",
            "580 0.013040186 [0.86737126] [0.30149642]\n",
            "600 0.011843309 [0.87360424] [0.2873272]\n",
            "620 0.010756281 [0.87954444] [0.2738239]\n",
            "640 0.009769025 [0.8852053] [0.2609552]\n",
            "660 0.008872385 [0.89060026] [0.24869129]\n",
            "680 0.008058049 [0.89574164] [0.23700371]\n",
            "700 0.007318443 [0.90064144] [0.22586536]\n",
            "720 0.006646728 [0.90531087] [0.21525052]\n",
            "740 0.0060366704 [0.9097609] [0.20513459]\n",
            "760 0.0054826047 [0.9140018] [0.19549406]\n",
            "780 0.0049793893 [0.9180433] [0.18630655]\n",
            "800 0.004522355 [0.9218951] [0.17755084]\n",
            "820 0.0041072774 [0.9255657] [0.1692066]\n",
            "840 0.003730295 [0.929064] [0.16125451]\n",
            "860 0.0033879122 [0.9323976] [0.15367611]\n",
            "880 0.0030769568 [0.9355747] [0.14645389]\n",
            "900 0.002794546 [0.9386023] [0.13957112]\n",
            "920 0.0025380433 [0.9414879] [0.13301179]\n",
            "940 0.002305092 [0.94423777] [0.12676069]\n",
            "960 0.0020935254 [0.94685835] [0.12080342]\n",
            "980 0.0019013748 [0.9493558] [0.11512614]\n",
            "1000 0.0017268587 [0.9517359] [0.10971563]\n",
            "1020 0.0015683613 [0.95400417] [0.10455938]\n",
            "1040 0.001424408 [0.9561658] [0.09964546]\n",
            "1060 0.0012936698 [0.9582258] [0.0949625]\n",
            "1080 0.0011749312 [0.9601891] [0.09049958]\n",
            "1100 0.0010670883 [0.9620601] [0.0862464]\n",
            "1120 0.00096914807 [0.9638431] [0.0821931]\n",
            "1140 0.0008801963 [0.9655423] [0.07833034]\n",
            "1160 0.0007994078 [0.9671617] [0.07464913]\n",
            "1180 0.00072603626 [0.96870494] [0.07114089]\n",
            "1200 0.00065939873 [0.97017574] [0.06779762]\n",
            "1220 0.00059887767 [0.97157735] [0.06461139]\n",
            "1240 0.0005439091 [0.9729131] [0.0615749]\n",
            "1260 0.00049398653 [0.97418606] [0.05868113]\n",
            "1280 0.00044864774 [0.97539926] [0.05592334]\n",
            "1300 0.00040746815 [0.9765554] [0.05329514]\n",
            "1320 0.00037006964 [0.97765714] [0.05079047]\n",
            "1340 0.00033610384 [0.97870713] [0.04840355]\n",
            "1360 0.00030525553 [0.9797078] [0.04612881]\n",
            "1380 0.0002772382 [0.9806616] [0.0439609]\n",
            "1400 0.00025179083 [0.98157036] [0.0418949]\n",
            "1420 0.00022868207 [0.98243654] [0.03992598]\n",
            "1440 0.00020769266 [0.98326194] [0.03804959]\n",
            "1460 0.00018862945 [0.98404855] [0.03626139]\n",
            "1480 0.00017131532 [0.98479825] [0.03455725]\n",
            "1500 0.00015559183 [0.9855127] [0.03293315]\n",
            "1520 0.00014131035 [0.9861935] [0.03138541]\n",
            "1540 0.00012834107 [0.98684233] [0.02991041]\n",
            "1560 0.00011656026 [0.98746073] [0.02850473]\n",
            "1580 0.00010586273 [0.98805] [0.02716512]\n",
            "1600 9.614694e-05 [0.9886116] [0.02588846]\n",
            "1620 8.73216e-05 [0.98914677] [0.02467185]\n",
            "1640 7.9307814e-05 [0.9896567] [0.02351241]\n",
            "1660 7.202867e-05 [0.9901429] [0.02240752]\n",
            "1680 6.541758e-05 [0.99060625] [0.02135439]\n",
            "1700 5.941327e-05 [0.99104774] [0.02035076]\n",
            "1720 5.3959568e-05 [0.9914684] [0.01939433]\n",
            "1740 4.9007143e-05 [0.9918694] [0.01848286]\n",
            "1760 4.450828e-05 [0.9922515] [0.01761421]\n",
            "1780 4.042376e-05 [0.99261564] [0.0167864]\n",
            "1800 3.6713107e-05 [0.99296266] [0.01599749]\n",
            "1820 3.33436e-05 [0.99329334] [0.0152457]\n",
            "1840 3.028319e-05 [0.99360853] [0.01452921]\n",
            "1860 2.750365e-05 [0.99390894] [0.0138464]\n",
            "1880 2.497939e-05 [0.9941952] [0.01319567]\n",
            "1900 2.268647e-05 [0.99446803] [0.01257551]\n",
            "1920 2.0604775e-05 [0.99472797] [0.01198452]\n",
            "1940 1.871316e-05 [0.9949758] [0.01142127]\n",
            "1960 1.6995722e-05 [0.99521196] [0.01088447]\n",
            "1980 1.543556e-05 [0.9954369] [0.01037292]\n",
            "2000 1.4018869e-05 [0.9956514] [0.00988543]\n"
          ],
          "name": "stdout"
        }
      ]
    },
    {
      "cell_type": "code",
      "metadata": {
        "colab": {
          "base_uri": "https://localhost:8080/",
          "height": 232
        },
        "id": "QCwomaUzN5b1",
        "outputId": "62925d8b-60db-4b9f-d991-0c37818f0c8d"
      },
      "source": [
        "import tensorflow as tf\n",
        "tf.compat.v1.set_random_seed(777)  # for reproducibility\n",
        "\n",
        "# Try to find values for W and b to compute Y = W * X + b\n",
        "W = tf.compat.v1.Variable(tf.compat.v1.random_normal([1]), name=\"weight\")\n",
        "b = tf.compat.v1.Variable(tf.compat.v1.random_normal([1]), name=\"bias\")\n",
        "\n",
        "# placeholders for a tensor that will be always fed using feed_dict\n",
        "# See http://stackoverflow.com/questions/36693740/\n",
        "X = tf.compat.v1.placeholder(tf.float32, shape=[None])\n",
        "Y = tf.compat.v1.placeholder(tf.float32, shape=[None])\n",
        "\n",
        "# Our hypothesis is X * W + b\n",
        "hypothesis = X * W + b\n",
        "\n",
        "# cost/loss function\n",
        "cost = tf.reduce_mean(tf.square(hypothesis - Y))\n",
        "\n",
        "# optimizer\n",
        "train = tf.compat.v1.GradientDescentOptimizer(learning_rate=0.01)\n",
        "\n",
        "# Launch the graph in a session.\n",
        "with tf.compat.v1.Session() as sess:\n",
        "    # Initializes global variables in the graph.\n",
        "    sess.run(tf.compat.v1.global_variables_initializer())\n",
        "\n",
        "    # Fit the line\n",
        "    for step in range(2001):\n",
        "        _, cost_val, W_val, b_val = sess.run(\n",
        "            [train, cost, W, b], feed_dict={X: [1, 2, 3], Y: [1, 2, 3]}\n",
        "        )\n",
        "        if step % 20 == 0:\n",
        "            print(step, cost_val, W_val, b_val)\n",
        "\n",
        "    # Testing our model\n",
        "    print(sess.run(hypothesis, feed_dict={X: [5]}))\n",
        "    print(sess.run(hypothesis, feed_dict={X: [2.5]}))\n",
        "    print(sess.run(hypothesis, feed_dict={X: [1.5, 3.5]}))\n",
        "\n",
        "    # Learns best fit W:[ 1.],  b:[ 0]\n",
        "    \"\"\"\n",
        "    0 3.5240757 [2.2086694] [-0.8204183]\n",
        "    20 0.19749963 [1.5425726] [-1.0498911]\n",
        "    ...\n",
        "    1980 1.3360998e-05 [1.0042454] [-0.00965055]\n",
        "    2000 1.21343355e-05 [1.0040458] [-0.00919707]\n",
        "    [5.0110054]\n",
        "    [2.500915]\n",
        "    [1.4968792 3.5049512]\n",
        "    \"\"\"\n",
        "\n",
        "    # Fit the line with new training data\n",
        "    for step in range(2001):\n",
        "        _, cost_val, W_val, b_val = sess.run(\n",
        "            [train, cost, W, b],\n",
        "            feed_dict={X: [1, 2, 3, 4, 5], Y: [2.1, 3.1, 4.1, 5.1, 6.1]},\n",
        "        )\n",
        "        if step % 20 == 0:\n",
        "            print(step, cost_val, W_val, b_val)\n",
        "\n",
        "    # Testing our model\n",
        "    print(sess.run(hypothesis, feed_dict={X: [5]}))\n",
        "    print(sess.run(hypothesis, feed_dict={X: [2.5]}))\n",
        "    print(sess.run(hypothesis, feed_dict={X: [1.5, 3.5]}))\n",
        "\n",
        "    # Learns best fit W:[ 1.],  b:[ 1.1]\n",
        "    \"\"\"\n",
        "    0 1.2035878 [1.0040361] [-0.00917497]\n",
        "    20 0.16904518 [1.2656431] [0.13599995]\n",
        "    ...\n",
        "    1980 2.9042917e-07 [1.00035] [1.0987366]\n",
        "    2000 2.5372992e-07 [1.0003271] [1.0988194]\n",
        "    [6.1004534]\n",
        "    [3.5996385]\n",
        "    [2.5993123 4.599964 ]\n",
        "    \"\"\"\n",
        "                                    "
      ],
      "execution_count": null,
      "outputs": [
        {
          "output_type": "error",
          "ename": "AttributeError",
          "evalue": "ignored",
          "traceback": [
            "\u001b[0;31m---------------------------------------------------------------------------\u001b[0m",
            "\u001b[0;31mAttributeError\u001b[0m                            Traceback (most recent call last)",
            "\u001b[0;32m<ipython-input-77-8194b1bf7379>\u001b[0m in \u001b[0;36m<module>\u001b[0;34m()\u001b[0m\n\u001b[1;32m     18\u001b[0m \u001b[0;34m\u001b[0m\u001b[0m\n\u001b[1;32m     19\u001b[0m \u001b[0;31m# optimizer\u001b[0m\u001b[0;34m\u001b[0m\u001b[0;34m\u001b[0m\u001b[0;34m\u001b[0m\u001b[0m\n\u001b[0;32m---> 20\u001b[0;31m \u001b[0mtrain\u001b[0m \u001b[0;34m=\u001b[0m \u001b[0mtf\u001b[0m\u001b[0;34m.\u001b[0m\u001b[0mcompat\u001b[0m\u001b[0;34m.\u001b[0m\u001b[0mv1\u001b[0m\u001b[0;34m.\u001b[0m\u001b[0mGradientDescentOptimizer\u001b[0m\u001b[0;34m(\u001b[0m\u001b[0mlearning_rate\u001b[0m\u001b[0;34m=\u001b[0m\u001b[0;36m0.01\u001b[0m\u001b[0;34m)\u001b[0m\u001b[0;34m\u001b[0m\u001b[0;34m\u001b[0m\u001b[0m\n\u001b[0m\u001b[1;32m     21\u001b[0m \u001b[0;34m\u001b[0m\u001b[0m\n\u001b[1;32m     22\u001b[0m \u001b[0;31m# Launch the graph in a session.\u001b[0m\u001b[0;34m\u001b[0m\u001b[0;34m\u001b[0m\u001b[0;34m\u001b[0m\u001b[0m\n",
            "\u001b[0;31mAttributeError\u001b[0m: module 'tensorflow.compat.v1' has no attribute 'GradientDescentOptimizer'"
          ]
        }
      ]
    },
    {
      "cell_type": "code",
      "metadata": {
        "colab": {
          "base_uri": "https://localhost:8080/",
          "height": 351
        },
        "id": "Q867a2G5N5gz",
        "outputId": "b87d3bcc-4296-4c9d-8af1-680bb7e64a55"
      },
      "source": [
        "import tensorflow as tf\n",
        "import matplotlib.pyplot as plt\n",
        "\n",
        "X = [1, 2, 3]\n",
        "Y = [1, 2, 3]\n",
        "\n",
        "W = tf.compat.v1.placeholder(tf.float32)\n",
        "hypothesis = X * W\n",
        "\n",
        "cost = tf.reduce_mean(tf.square(hypothesis - Y))\n",
        "\n",
        "with tf.compat.v1.Session() as sess:\n",
        "  sess.run(tf.compat.v1.global_variables_initializer())\n",
        "\n",
        "  W_val = []\n",
        "  cost_val = []\n",
        "\n",
        "  for i in range(-30, 50):\n",
        "    feed_W = i * 0.1\n",
        "    curr_cost, curr_W = sess.run([cost, W], feed_dict={W: feed_W})\n",
        "    W_val.append(curr_W)\n",
        "    cost_val.append(curr_cost)\n",
        "\n",
        "plt.plot(W_val, cost_val)\n",
        "plt.show()"
      ],
      "execution_count": null,
      "outputs": [
        {
          "output_type": "error",
          "ename": "RuntimeError",
          "evalue": "ignored",
          "traceback": [
            "\u001b[0;31m---------------------------------------------------------------------------\u001b[0m",
            "\u001b[0;31mRuntimeError\u001b[0m                              Traceback (most recent call last)",
            "\u001b[0;32m<ipython-input-2-5db612ad1150>\u001b[0m in \u001b[0;36m<module>\u001b[0;34m()\u001b[0m\n\u001b[1;32m      5\u001b[0m \u001b[0mY\u001b[0m \u001b[0;34m=\u001b[0m \u001b[0;34m[\u001b[0m\u001b[0;36m1\u001b[0m\u001b[0;34m,\u001b[0m \u001b[0;36m2\u001b[0m\u001b[0;34m,\u001b[0m \u001b[0;36m3\u001b[0m\u001b[0;34m]\u001b[0m\u001b[0;34m\u001b[0m\u001b[0;34m\u001b[0m\u001b[0m\n\u001b[1;32m      6\u001b[0m \u001b[0;34m\u001b[0m\u001b[0m\n\u001b[0;32m----> 7\u001b[0;31m \u001b[0mW\u001b[0m \u001b[0;34m=\u001b[0m \u001b[0mtf\u001b[0m\u001b[0;34m.\u001b[0m\u001b[0mcompat\u001b[0m\u001b[0;34m.\u001b[0m\u001b[0mv1\u001b[0m\u001b[0;34m.\u001b[0m\u001b[0mplaceholder\u001b[0m\u001b[0;34m(\u001b[0m\u001b[0mtf\u001b[0m\u001b[0;34m.\u001b[0m\u001b[0mfloat32\u001b[0m\u001b[0;34m)\u001b[0m\u001b[0;34m\u001b[0m\u001b[0;34m\u001b[0m\u001b[0m\n\u001b[0m\u001b[1;32m      8\u001b[0m \u001b[0mhypothesis\u001b[0m \u001b[0;34m=\u001b[0m \u001b[0mX\u001b[0m \u001b[0;34m*\u001b[0m \u001b[0mW\u001b[0m\u001b[0;34m\u001b[0m\u001b[0;34m\u001b[0m\u001b[0m\n\u001b[1;32m      9\u001b[0m \u001b[0;34m\u001b[0m\u001b[0m\n",
            "\u001b[0;32m/usr/local/lib/python3.7/dist-packages/tensorflow/python/ops/array_ops.py\u001b[0m in \u001b[0;36mplaceholder\u001b[0;34m(dtype, shape, name)\u001b[0m\n\u001b[1;32m   3174\u001b[0m   \"\"\"\n\u001b[1;32m   3175\u001b[0m   \u001b[0;32mif\u001b[0m \u001b[0mcontext\u001b[0m\u001b[0;34m.\u001b[0m\u001b[0mexecuting_eagerly\u001b[0m\u001b[0;34m(\u001b[0m\u001b[0;34m)\u001b[0m\u001b[0;34m:\u001b[0m\u001b[0;34m\u001b[0m\u001b[0;34m\u001b[0m\u001b[0m\n\u001b[0;32m-> 3176\u001b[0;31m     raise RuntimeError(\"tf.placeholder() is not compatible with \"\n\u001b[0m\u001b[1;32m   3177\u001b[0m                        \"eager execution.\")\n\u001b[1;32m   3178\u001b[0m \u001b[0;34m\u001b[0m\u001b[0m\n",
            "\u001b[0;31mRuntimeError\u001b[0m: tf.placeholder() is not compatible with eager execution."
          ]
        }
      ]
    },
    {
      "cell_type": "code",
      "metadata": {
        "colab": {
          "base_uri": "https://localhost:8080/",
          "height": 351
        },
        "id": "lebyO-caN5k6",
        "outputId": "6569209a-1238-456d-948b-ddadea4f18b9"
      },
      "source": [
        "import tensorflow as tf\n",
        "\n",
        "x_data = [[73., 80., 75.], [93., 88., 93.], [89., 91., 90.], [96., 98., 100.], [73., 66., 70.]]\n",
        "\n",
        "y_data = [[152.], [185.], [180.], [196.], [142.]]\n",
        "\n",
        "X = tf.compat.v1.placeholder(tf.float32, shape=[None, 3])\n",
        "Y = tf.compat.v1.placeholder(tf.float32, shape=[None, 1])\n",
        "\n",
        "W = tf.compat.v1.Variable(tf.random_normal_initializer([3, 1]), name='weight')\n",
        "b = tf.compat.v1.Variable(tf.random_normal_initializer([1]), name='bias')\n",
        "\n",
        "hypothesis = tf.matmul(X, W) + b\n",
        "\n",
        "cost = tf.reduce_mean(tf.square(hypothesis - Y))\n",
        "\n",
        "optimizer = tf.train.GradientDescentOptimizer(learning_rate=1e-5)\n",
        "train = optimizer.minimize(cost)\n",
        "\n",
        "sess = tf.Session()\n",
        "sess.run(tf.global_variable_initializer())\n",
        "\n",
        "for step in range(2001):\n",
        "  cost_val, hy_val, _ = sess.run(\n",
        "      [cost, hypothesis, train], feed_dict={X: x_data, Y: y_data})\n",
        "  if step % 10 == 0:\n",
        "    print(step, \"Cost:\", cost_val, \"\\nPrediction:\\n\", hy_val)"
      ],
      "execution_count": null,
      "outputs": [
        {
          "output_type": "error",
          "ename": "RuntimeError",
          "evalue": "ignored",
          "traceback": [
            "\u001b[0;31m---------------------------------------------------------------------------\u001b[0m",
            "\u001b[0;31mRuntimeError\u001b[0m                              Traceback (most recent call last)",
            "\u001b[0;32m<ipython-input-4-45756396e197>\u001b[0m in \u001b[0;36m<module>\u001b[0;34m()\u001b[0m\n\u001b[1;32m      5\u001b[0m \u001b[0my_data\u001b[0m \u001b[0;34m=\u001b[0m \u001b[0;34m[\u001b[0m\u001b[0;34m[\u001b[0m\u001b[0;36m152.\u001b[0m\u001b[0;34m]\u001b[0m\u001b[0;34m,\u001b[0m \u001b[0;34m[\u001b[0m\u001b[0;36m185.\u001b[0m\u001b[0;34m]\u001b[0m\u001b[0;34m,\u001b[0m \u001b[0;34m[\u001b[0m\u001b[0;36m180.\u001b[0m\u001b[0;34m]\u001b[0m\u001b[0;34m,\u001b[0m \u001b[0;34m[\u001b[0m\u001b[0;36m196.\u001b[0m\u001b[0;34m]\u001b[0m\u001b[0;34m,\u001b[0m \u001b[0;34m[\u001b[0m\u001b[0;36m142.\u001b[0m\u001b[0;34m]\u001b[0m\u001b[0;34m]\u001b[0m\u001b[0;34m\u001b[0m\u001b[0;34m\u001b[0m\u001b[0m\n\u001b[1;32m      6\u001b[0m \u001b[0;34m\u001b[0m\u001b[0m\n\u001b[0;32m----> 7\u001b[0;31m \u001b[0mX\u001b[0m \u001b[0;34m=\u001b[0m \u001b[0mtf\u001b[0m\u001b[0;34m.\u001b[0m\u001b[0mcompat\u001b[0m\u001b[0;34m.\u001b[0m\u001b[0mv1\u001b[0m\u001b[0;34m.\u001b[0m\u001b[0mplaceholder\u001b[0m\u001b[0;34m(\u001b[0m\u001b[0mtf\u001b[0m\u001b[0;34m.\u001b[0m\u001b[0mfloat32\u001b[0m\u001b[0;34m,\u001b[0m \u001b[0mshape\u001b[0m\u001b[0;34m=\u001b[0m\u001b[0;34m[\u001b[0m\u001b[0;32mNone\u001b[0m\u001b[0;34m,\u001b[0m \u001b[0;36m3\u001b[0m\u001b[0;34m]\u001b[0m\u001b[0;34m)\u001b[0m\u001b[0;34m\u001b[0m\u001b[0;34m\u001b[0m\u001b[0m\n\u001b[0m\u001b[1;32m      8\u001b[0m \u001b[0mY\u001b[0m \u001b[0;34m=\u001b[0m \u001b[0mtf\u001b[0m\u001b[0;34m.\u001b[0m\u001b[0mcompat\u001b[0m\u001b[0;34m.\u001b[0m\u001b[0mv1\u001b[0m\u001b[0;34m.\u001b[0m\u001b[0mplaceholder\u001b[0m\u001b[0;34m(\u001b[0m\u001b[0mtf\u001b[0m\u001b[0;34m.\u001b[0m\u001b[0mfloat32\u001b[0m\u001b[0;34m,\u001b[0m \u001b[0mshape\u001b[0m\u001b[0;34m=\u001b[0m\u001b[0;34m[\u001b[0m\u001b[0;32mNone\u001b[0m\u001b[0;34m,\u001b[0m \u001b[0;36m1\u001b[0m\u001b[0;34m]\u001b[0m\u001b[0;34m)\u001b[0m\u001b[0;34m\u001b[0m\u001b[0;34m\u001b[0m\u001b[0m\n\u001b[1;32m      9\u001b[0m \u001b[0;34m\u001b[0m\u001b[0m\n",
            "\u001b[0;32m/usr/local/lib/python3.7/dist-packages/tensorflow/python/ops/array_ops.py\u001b[0m in \u001b[0;36mplaceholder\u001b[0;34m(dtype, shape, name)\u001b[0m\n\u001b[1;32m   3174\u001b[0m   \"\"\"\n\u001b[1;32m   3175\u001b[0m   \u001b[0;32mif\u001b[0m \u001b[0mcontext\u001b[0m\u001b[0;34m.\u001b[0m\u001b[0mexecuting_eagerly\u001b[0m\u001b[0;34m(\u001b[0m\u001b[0;34m)\u001b[0m\u001b[0;34m:\u001b[0m\u001b[0;34m\u001b[0m\u001b[0;34m\u001b[0m\u001b[0m\n\u001b[0;32m-> 3176\u001b[0;31m     raise RuntimeError(\"tf.placeholder() is not compatible with \"\n\u001b[0m\u001b[1;32m   3177\u001b[0m                        \"eager execution.\")\n\u001b[1;32m   3178\u001b[0m \u001b[0;34m\u001b[0m\u001b[0m\n",
            "\u001b[0;31mRuntimeError\u001b[0m: tf.placeholder() is not compatible with eager execution."
          ]
        }
      ]
    },
    {
      "cell_type": "code",
      "metadata": {
        "id": "LuOLYr5PyBy8"
      },
      "source": [
        " "
      ],
      "execution_count": null,
      "outputs": []
    },
    {
      "cell_type": "code",
      "metadata": {
        "id": "HPHyz03tN5nO"
      },
      "source": [
        ""
      ],
      "execution_count": null,
      "outputs": []
    },
    {
      "cell_type": "code",
      "metadata": {
        "id": "H02HwO7dN5qa"
      },
      "source": [
        ""
      ],
      "execution_count": null,
      "outputs": []
    },
    {
      "cell_type": "code",
      "metadata": {
        "id": "tKjWsij3N5sP"
      },
      "source": [
        ""
      ],
      "execution_count": null,
      "outputs": []
    },
    {
      "cell_type": "code",
      "metadata": {
        "id": "GLCVvzxHN5uQ"
      },
      "source": [
        ""
      ],
      "execution_count": null,
      "outputs": []
    },
    {
      "cell_type": "code",
      "metadata": {
        "id": "QF2C-JlGN5vw"
      },
      "source": [
        ""
      ],
      "execution_count": null,
      "outputs": []
    },
    {
      "cell_type": "code",
      "metadata": {
        "id": "8kgnvRRBN5yO"
      },
      "source": [
        ""
      ],
      "execution_count": null,
      "outputs": []
    },
    {
      "cell_type": "code",
      "metadata": {
        "id": "mktSvxWIN5zr"
      },
      "source": [
        ""
      ],
      "execution_count": null,
      "outputs": []
    },
    {
      "cell_type": "code",
      "metadata": {
        "id": "5CNkwod_hehY"
      },
      "source": [
        ""
      ],
      "execution_count": null,
      "outputs": []
    }
  ]
}